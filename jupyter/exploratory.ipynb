{
 "cells": [
  {
   "cell_type": "code",
   "execution_count": null,
   "id": "23801422-2486-41fe-8cd9-85a27af28dd0",
   "metadata": {},
   "outputs": [],
   "source": [
    "import load_dataset"
   ]
  },
  {
   "cell_type": "code",
   "execution_count": null,
   "id": "ed12d0d4-83c9-4934-834d-bd8437554f62",
   "metadata": {},
   "outputs": [],
   "source": [
    "df = load_dataset.load(\"../datasets/fechamento/Fechamento_2021_2.csv\")"
   ]
  }
 ],
 "metadata": {
  "kernelspec": {
   "display_name": "Python 3 (ipykernel)",
   "language": "python",
   "name": "python3"
  },
  "language_info": {
   "codemirror_mode": {
    "name": "ipython",
    "version": 3
   },
   "file_extension": ".py",
   "mimetype": "text/x-python",
   "name": "python",
   "nbconvert_exporter": "python",
   "pygments_lexer": "ipython3",
   "version": "3.10.6"
  }
 },
 "nbformat": 4,
 "nbformat_minor": 5
}
